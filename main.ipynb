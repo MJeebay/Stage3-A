import nbimporter  # Permet d'importer des fichiers .ipynb
import utils
import statements
import json

def create_wikidata_item(oclc_number, session, csrf_token, instance="test.wikidata.org"):
    """Crée un item Wikidata à partir d'un numéro OCLC et ajoute des déclarations"""
    
    # 🔹 Récupération des métadonnées depuis WorldCat
    citation_text = utils.get_worldcat_citation(oclc_number)
    if not citation_text:
        print("❌ Aucune donnée récupérée depuis WorldCat.")
        return
    
    # 🔹 Extraction des données pertinentes
    data = utils.parse_citation_text(citation_text)
    print("📌 Données extraites :", data)

    # 🔹 Création de l'item sur Wikidata
    item_json = json.dumps({
        "labels": {"en": {"language": "en", "value": data.get("Title", "Livre inconnu")}},
        "descriptions": {"en": {"language": "en", "value": "Livre référencé dans WorldCat"}},
    })
    parameters = {'action': 'wbeditentity', 'format': 'json', 'new': 'item', 'token': csrf_token, 'data': item_json}
    response = session.post(f"https://{instance}/w/api.php", data=parameters)
    response_data = response.json()

    if "entity" in response_data and "id" in response_data["entity"]:
        item_id = response_data["entity"]["id"]
        print(f"✅ Nouvel item créé avec l'ID : {item_id}")

        # 🔹 Ajout des déclarations spécifiques
        statements.add_title_statement(item_id, data.get("Title"), session, csrf_token, instance)
        statements.add_edition_statement(item_id, data.get("Edition"), session, csrf_token, instance)
    else:
        print("❌ Erreur lors de la création de l'item:", response_data)

# 🔹 Initialisation de la session et récupération du token
session, csrf_token = utils.setup_session(instance="test.wikidata.org")

# 🔹 Lancement du traitement pour un numéro OCLC donné
oclc_number = "769988110"  # Exemple
create_wikidata_item(oclc_number, session, csrf_token)
